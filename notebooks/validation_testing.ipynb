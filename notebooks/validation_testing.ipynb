{
  "nbformat": 4,
  "nbformat_minor": 0,
  "metadata": {
    "colab": {
      "provenance": [],
      "machine_shape": "hm",
      "gpuType": "A100"
    },
    "kernelspec": {
      "name": "python3",
      "display_name": "Python 3"
    },
    "language_info": {
      "name": "python"
    },
    "accelerator": "GPU"
  },
  "cells": [
    {
      "cell_type": "code",
      "execution_count": 1,
      "metadata": {
        "colab": {
          "base_uri": "https://localhost:8080/"
        },
        "id": "xuIF531DCL0E",
        "outputId": "b921b94c-5351-492d-d078-874183c46f20"
      },
      "outputs": [
        {
          "output_type": "stream",
          "name": "stdout",
          "text": [
            "fatal: destination path 'itau-group2' already exists and is not an empty directory.\n"
          ]
        }
      ],
      "source": [
        "### !git clone https://github.com/your-username/itau-group2.git\n",
        "!git clone https://github.com/sashajh2/itau-group2/"
      ]
    },
    {
      "cell_type": "code",
      "source": [
        "%cd itau-group2"
      ],
      "metadata": {
        "colab": {
          "base_uri": "https://localhost:8080/"
        },
        "id": "C5fGmtyXCS7v",
        "outputId": "7b74beca-47f7-4987-c92e-486e05c968f8"
      },
      "execution_count": 2,
      "outputs": [
        {
          "output_type": "stream",
          "name": "stdout",
          "text": [
            "/content/itau-group2\n"
          ]
        }
      ]
    },
    {
      "cell_type": "code",
      "source": [
        "!git pull origin"
      ],
      "metadata": {
        "colab": {
          "base_uri": "https://localhost:8080/"
        },
        "id": "gODSvkPWCafH",
        "outputId": "0ebdba0b-5a0b-45ed-ccb6-c7d5f34a0c30"
      },
      "execution_count": 3,
      "outputs": [
        {
          "output_type": "stream",
          "name": "stdout",
          "text": [
            "Already up to date.\n"
          ]
        }
      ]
    },
    {
      "cell_type": "code",
      "source": [
        "!git status"
      ],
      "metadata": {
        "colab": {
          "base_uri": "https://localhost:8080/"
        },
        "id": "gr37wFk-CbBP",
        "outputId": "b78e138d-d286-438e-d05a-ced87f683f75"
      },
      "execution_count": 4,
      "outputs": [
        {
          "output_type": "stream",
          "name": "stdout",
          "text": [
            "On branch sean-validation\n",
            "Your branch is up to date with 'origin/sean-validation'.\n",
            "\n",
            "nothing to commit, working tree clean\n"
          ]
        }
      ]
    },
    {
      "cell_type": "code",
      "source": [
        "!git checkout sean-validation"
      ],
      "metadata": {
        "colab": {
          "base_uri": "https://localhost:8080/"
        },
        "id": "eRZqrYkiCdBt",
        "outputId": "9f560b92-3931-45c7-e324-03ae6f428dc5"
      },
      "execution_count": 5,
      "outputs": [
        {
          "output_type": "stream",
          "name": "stdout",
          "text": [
            "Already on 'sean-validation'\n",
            "Your branch is up to date with 'origin/sean-validation'.\n"
          ]
        }
      ]
    },
    {
      "cell_type": "code",
      "source": [
        "!git pull origin sean-validation"
      ],
      "metadata": {
        "colab": {
          "base_uri": "https://localhost:8080/"
        },
        "id": "-y_s9dKUCfiX",
        "outputId": "036997e2-9967-4c2d-ed53-2dc4566cf36c"
      },
      "execution_count": 6,
      "outputs": [
        {
          "output_type": "stream",
          "name": "stdout",
          "text": [
            "From https://github.com/sashajh2/itau-group2\n",
            " * branch            sean-validation -> FETCH_HEAD\n",
            "Already up to date.\n"
          ]
        }
      ]
    },
    {
      "cell_type": "code",
      "source": [
        "#ensure this is /content/itau-group2\n",
        "!pwd"
      ],
      "metadata": {
        "colab": {
          "base_uri": "https://localhost:8080/"
        },
        "id": "j_QDCs55ChYC",
        "outputId": "30f1916e-f50c-4022-9919-3620fdd179f5"
      },
      "execution_count": 7,
      "outputs": [
        {
          "output_type": "stream",
          "name": "stdout",
          "text": [
            "/content/itau-group2\n"
          ]
        }
      ]
    },
    {
      "cell_type": "code",
      "source": [
        "%pip install -r requirements.txt --no-deps"
      ],
      "metadata": {
        "colab": {
          "base_uri": "https://localhost:8080/"
        },
        "id": "0BkEnoZ5CjRV",
        "outputId": "c9afc2f7-43d6-4bed-ac70-73027556f46b"
      },
      "execution_count": 8,
      "outputs": [
        {
          "output_type": "stream",
          "name": "stdout",
          "text": [
            "Requirement already satisfied: certifi==2025.4.26 in /usr/local/lib/python3.11/dist-packages (from -r requirements.txt (line 1)) (2025.4.26)\n",
            "Requirement already satisfied: charset-normalizer==3.4.2 in /usr/local/lib/python3.11/dist-packages (from -r requirements.txt (line 2)) (3.4.2)\n",
            "Requirement already satisfied: contourpy==1.3.2 in /usr/local/lib/python3.11/dist-packages (from -r requirements.txt (line 3)) (1.3.2)\n",
            "Requirement already satisfied: cycler==0.12.1 in /usr/local/lib/python3.11/dist-packages (from -r requirements.txt (line 4)) (0.12.1)\n",
            "Requirement already satisfied: filelock==3.18.0 in /usr/local/lib/python3.11/dist-packages (from -r requirements.txt (line 5)) (3.18.0)\n",
            "Requirement already satisfied: fonttools==4.58.2 in /usr/local/lib/python3.11/dist-packages (from -r requirements.txt (line 6)) (4.58.2)\n",
            "Requirement already satisfied: fsspec==2025.5.1 in /usr/local/lib/python3.11/dist-packages (from -r requirements.txt (line 7)) (2025.5.1)\n",
            "Requirement already satisfied: hf-xet==1.1.3 in /usr/local/lib/python3.11/dist-packages (from -r requirements.txt (line 8)) (1.1.3)\n",
            "Requirement already satisfied: huggingface-hub==0.32.4 in /usr/local/lib/python3.11/dist-packages (from -r requirements.txt (line 9)) (0.32.4)\n",
            "Requirement already satisfied: idna==3.10 in /usr/local/lib/python3.11/dist-packages (from -r requirements.txt (line 10)) (3.10)\n",
            "Requirement already satisfied: Jinja2==3.1.6 in /usr/local/lib/python3.11/dist-packages (from -r requirements.txt (line 11)) (3.1.6)\n",
            "Requirement already satisfied: joblib==1.5.1 in /usr/local/lib/python3.11/dist-packages (from -r requirements.txt (line 12)) (1.5.1)\n",
            "Requirement already satisfied: kiwisolver==1.4.8 in /usr/local/lib/python3.11/dist-packages (from -r requirements.txt (line 13)) (1.4.8)\n",
            "Requirement already satisfied: MarkupSafe==3.0.2 in /usr/local/lib/python3.11/dist-packages (from -r requirements.txt (line 14)) (3.0.2)\n",
            "Requirement already satisfied: matplotlib==3.10.3 in /usr/local/lib/python3.11/dist-packages (from -r requirements.txt (line 15)) (3.10.3)\n",
            "Requirement already satisfied: mpmath==1.3.0 in /usr/local/lib/python3.11/dist-packages (from -r requirements.txt (line 16)) (1.3.0)\n",
            "Requirement already satisfied: networkx==3.4.2 in /usr/local/lib/python3.11/dist-packages (from -r requirements.txt (line 17)) (3.4.2)\n",
            "Requirement already satisfied: numpy==2.2.6 in /usr/local/lib/python3.11/dist-packages (from -r requirements.txt (line 18)) (2.2.6)\n",
            "Requirement already satisfied: packaging==25.0 in /usr/local/lib/python3.11/dist-packages (from -r requirements.txt (line 19)) (25.0)\n",
            "Requirement already satisfied: pandas==2.3.0 in /usr/local/lib/python3.11/dist-packages (from -r requirements.txt (line 20)) (2.3.0)\n",
            "Requirement already satisfied: pillow==11.2.1 in /usr/local/lib/python3.11/dist-packages (from -r requirements.txt (line 21)) (11.2.1)\n",
            "Requirement already satisfied: pyparsing==3.2.3 in /usr/local/lib/python3.11/dist-packages (from -r requirements.txt (line 22)) (3.2.3)\n",
            "Requirement already satisfied: python-dateutil==2.9.0.post0 in /usr/local/lib/python3.11/dist-packages (from -r requirements.txt (line 23)) (2.9.0.post0)\n",
            "Requirement already satisfied: pytz==2025.2 in /usr/local/lib/python3.11/dist-packages (from -r requirements.txt (line 24)) (2025.2)\n",
            "Requirement already satisfied: PyYAML==6.0.2 in /usr/local/lib/python3.11/dist-packages (from -r requirements.txt (line 25)) (6.0.2)\n",
            "Requirement already satisfied: regex==2024.11.6 in /usr/local/lib/python3.11/dist-packages (from -r requirements.txt (line 26)) (2024.11.6)\n",
            "Requirement already satisfied: requests==2.32.3 in /usr/local/lib/python3.11/dist-packages (from -r requirements.txt (line 27)) (2.32.3)\n",
            "Requirement already satisfied: safetensors==0.5.3 in /usr/local/lib/python3.11/dist-packages (from -r requirements.txt (line 28)) (0.5.3)\n",
            "Requirement already satisfied: scikit-learn==1.7.0 in /usr/local/lib/python3.11/dist-packages (from -r requirements.txt (line 29)) (1.7.0)\n",
            "Requirement already satisfied: scipy==1.15.3 in /usr/local/lib/python3.11/dist-packages (from -r requirements.txt (line 30)) (1.15.3)\n",
            "Requirement already satisfied: six==1.17.0 in /usr/local/lib/python3.11/dist-packages (from -r requirements.txt (line 31)) (1.17.0)\n",
            "Requirement already satisfied: sympy==1.14.0 in /usr/local/lib/python3.11/dist-packages (from -r requirements.txt (line 32)) (1.14.0)\n",
            "Requirement already satisfied: threadpoolctl==3.6.0 in /usr/local/lib/python3.11/dist-packages (from -r requirements.txt (line 33)) (3.6.0)\n",
            "Requirement already satisfied: tokenizers==0.13.2 in /usr/local/lib/python3.11/dist-packages (from -r requirements.txt (line 34)) (0.13.2)\n",
            "Requirement already satisfied: torch==2.2.2 in /usr/local/lib/python3.11/dist-packages (from -r requirements.txt (line 35)) (2.2.2)\n",
            "Requirement already satisfied: tqdm==4.67.1 in /usr/local/lib/python3.11/dist-packages (from -r requirements.txt (line 36)) (4.67.1)\n",
            "Requirement already satisfied: transformers==4.27.0 in /usr/local/lib/python3.11/dist-packages (from -r requirements.txt (line 37)) (4.27.0)\n",
            "Requirement already satisfied: typing_extensions==4.14.0 in /usr/local/lib/python3.11/dist-packages (from -r requirements.txt (line 38)) (4.14.0)\n",
            "Requirement already satisfied: tzdata==2025.2 in /usr/local/lib/python3.11/dist-packages (from -r requirements.txt (line 39)) (2025.2)\n",
            "Requirement already satisfied: urllib3==2.4.0 in /usr/local/lib/python3.11/dist-packages (from -r requirements.txt (line 40)) (2.4.0)\n"
          ]
        }
      ]
    },
    {
      "cell_type": "code",
      "source": [
        "!python --version"
      ],
      "metadata": {
        "colab": {
          "base_uri": "https://localhost:8080/"
        },
        "id": "ogmS2jw-Ckui",
        "outputId": "354954a0-fe6b-4047-df22-939544cd0087"
      },
      "execution_count": 9,
      "outputs": [
        {
          "output_type": "stream",
          "name": "stdout",
          "text": [
            "Python 3.11.13\n"
          ]
        }
      ]
    },
    {
      "cell_type": "code",
      "source": [
        "# Reinstall PyTorch with CUDA 11.8 (commonly works with Colab)\n",
        "!pip install torch torchvision torchaudio --index-url https://download.pytorch.org/whl/cu118"
      ],
      "metadata": {
        "colab": {
          "base_uri": "https://localhost:8080/"
        },
        "id": "zWIAhj0kCnQL",
        "outputId": "60250329-8afa-4373-dff4-132a5b70a3b2"
      },
      "execution_count": 10,
      "outputs": [
        {
          "output_type": "stream",
          "name": "stdout",
          "text": [
            "Looking in indexes: https://download.pytorch.org/whl/cu118\n",
            "Requirement already satisfied: torch in /usr/local/lib/python3.11/dist-packages (2.2.2)\n",
            "Requirement already satisfied: torchvision in /usr/local/lib/python3.11/dist-packages (0.21.0+cu124)\n",
            "Requirement already satisfied: torchaudio in /usr/local/lib/python3.11/dist-packages (2.6.0+cu124)\n",
            "Requirement already satisfied: filelock in /usr/local/lib/python3.11/dist-packages (from torch) (3.18.0)\n",
            "Requirement already satisfied: typing-extensions>=4.8.0 in /usr/local/lib/python3.11/dist-packages (from torch) (4.14.0)\n",
            "Requirement already satisfied: sympy in /usr/local/lib/python3.11/dist-packages (from torch) (1.14.0)\n",
            "Requirement already satisfied: networkx in /usr/local/lib/python3.11/dist-packages (from torch) (3.4.2)\n",
            "Requirement already satisfied: jinja2 in /usr/local/lib/python3.11/dist-packages (from torch) (3.1.6)\n",
            "Requirement already satisfied: fsspec in /usr/local/lib/python3.11/dist-packages (from torch) (2025.5.1)\n",
            "INFO: pip is looking at multiple versions of torch to determine which version is compatible with other requirements. This could take a while.\n",
            "Collecting torch\n",
            "  Downloading https://download.pytorch.org/whl/cu118/torch-2.7.1%2Bcu118-cp311-cp311-manylinux_2_28_x86_64.whl.metadata (28 kB)\n",
            "Collecting nvidia-cuda-nvrtc-cu11==11.8.89 (from torch)\n",
            "  Downloading https://download.pytorch.org/whl/cu118/nvidia_cuda_nvrtc_cu11-11.8.89-py3-none-manylinux1_x86_64.whl (23.2 MB)\n",
            "\u001b[2K     \u001b[90m━━━━━━━━━━━━━━━━━━━━━━━━━━━━━━━━━━━━━━━━\u001b[0m \u001b[32m23.2/23.2 MB\u001b[0m \u001b[31m99.4 MB/s\u001b[0m eta \u001b[36m0:00:00\u001b[0m\n",
            "\u001b[?25hCollecting nvidia-cuda-runtime-cu11==11.8.89 (from torch)\n",
            "  Downloading https://download.pytorch.org/whl/cu118/nvidia_cuda_runtime_cu11-11.8.89-py3-none-manylinux1_x86_64.whl (875 kB)\n",
            "\u001b[2K     \u001b[90m━━━━━━━━━━━━━━━━━━━━━━━━━━━━━━━━━━━━━━\u001b[0m \u001b[32m875.6/875.6 kB\u001b[0m \u001b[31m52.6 MB/s\u001b[0m eta \u001b[36m0:00:00\u001b[0m\n",
            "\u001b[?25hCollecting nvidia-cuda-cupti-cu11==11.8.87 (from torch)\n",
            "  Downloading https://download.pytorch.org/whl/cu118/nvidia_cuda_cupti_cu11-11.8.87-py3-none-manylinux1_x86_64.whl (13.1 MB)\n",
            "\u001b[2K     \u001b[90m━━━━━━━━━━━━━━━━━━━━━━━━━━━━━━━━━━━━━━━\u001b[0m \u001b[32m13.1/13.1 MB\u001b[0m \u001b[31m119.0 MB/s\u001b[0m eta \u001b[36m0:00:00\u001b[0m\n",
            "\u001b[?25hCollecting nvidia-cudnn-cu11==9.1.0.70 (from torch)\n",
            "  Downloading https://download.pytorch.org/whl/cu118/nvidia_cudnn_cu11-9.1.0.70-py3-none-manylinux2014_x86_64.whl (663.9 MB)\n",
            "\u001b[2K     \u001b[90m━━━━━━━━━━━━━━━━━━━━━━━━━━━━━━━━━━━━━━━\u001b[0m \u001b[32m663.9/663.9 MB\u001b[0m \u001b[31m1.7 MB/s\u001b[0m eta \u001b[36m0:00:00\u001b[0m\n",
            "\u001b[?25hCollecting nvidia-cublas-cu11==11.11.3.6 (from torch)\n",
            "  Downloading https://download.pytorch.org/whl/cu118/nvidia_cublas_cu11-11.11.3.6-py3-none-manylinux1_x86_64.whl (417.9 MB)\n",
            "\u001b[2K     \u001b[90m━━━━━━━━━━━━━━━━━━━━━━━━━━━━━━━━━━━━━━━\u001b[0m \u001b[32m417.9/417.9 MB\u001b[0m \u001b[31m3.0 MB/s\u001b[0m eta \u001b[36m0:00:00\u001b[0m\n",
            "\u001b[?25hCollecting nvidia-cufft-cu11==10.9.0.58 (from torch)\n",
            "  Downloading https://download.pytorch.org/whl/cu118/nvidia_cufft_cu11-10.9.0.58-py3-none-manylinux1_x86_64.whl (168.4 MB)\n",
            "\u001b[2K     \u001b[90m━━━━━━━━━━━━━━━━━━━━━━━━━━━━━━━━━━━━━━\u001b[0m \u001b[32m168.4/168.4 MB\u001b[0m \u001b[31m14.8 MB/s\u001b[0m eta \u001b[36m0:00:00\u001b[0m\n",
            "\u001b[?25hCollecting nvidia-curand-cu11==10.3.0.86 (from torch)\n",
            "  Downloading https://download.pytorch.org/whl/cu118/nvidia_curand_cu11-10.3.0.86-py3-none-manylinux1_x86_64.whl (58.1 MB)\n",
            "\u001b[2K     \u001b[90m━━━━━━━━━━━━━━━━━━━━━━━━━━━━━━━━━━━━━━━━\u001b[0m \u001b[32m58.1/58.1 MB\u001b[0m \u001b[31m21.3 MB/s\u001b[0m eta \u001b[36m0:00:00\u001b[0m\n",
            "\u001b[?25hCollecting nvidia-cusolver-cu11==11.4.1.48 (from torch)\n",
            "  Downloading https://download.pytorch.org/whl/cu118/nvidia_cusolver_cu11-11.4.1.48-py3-none-manylinux1_x86_64.whl (128.2 MB)\n",
            "\u001b[2K     \u001b[90m━━━━━━━━━━━━━━━━━━━━━━━━━━━━━━━━━━━━━━\u001b[0m \u001b[32m128.2/128.2 MB\u001b[0m \u001b[31m20.2 MB/s\u001b[0m eta \u001b[36m0:00:00\u001b[0m\n",
            "\u001b[?25hCollecting nvidia-cusparse-cu11==11.7.5.86 (from torch)\n",
            "  Downloading https://download.pytorch.org/whl/cu118/nvidia_cusparse_cu11-11.7.5.86-py3-none-manylinux1_x86_64.whl (204.1 MB)\n",
            "\u001b[2K     \u001b[90m━━━━━━━━━━━━━━━━━━━━━━━━━━━━━━━━━━━━━━━\u001b[0m \u001b[32m204.1/204.1 MB\u001b[0m \u001b[31m5.9 MB/s\u001b[0m eta \u001b[36m0:00:00\u001b[0m\n",
            "\u001b[?25hCollecting nvidia-nccl-cu11==2.21.5 (from torch)\n",
            "  Downloading https://download.pytorch.org/whl/cu118/nvidia_nccl_cu11-2.21.5-py3-none-manylinux2014_x86_64.whl (147.8 MB)\n",
            "\u001b[2K     \u001b[90m━━━━━━━━━━━━━━━━━━━━━━━━━━━━━━━━━━━━━━\u001b[0m \u001b[32m147.8/147.8 MB\u001b[0m \u001b[31m17.0 MB/s\u001b[0m eta \u001b[36m0:00:00\u001b[0m\n",
            "\u001b[?25hCollecting nvidia-nvtx-cu11==11.8.86 (from torch)\n",
            "  Downloading https://download.pytorch.org/whl/cu118/nvidia_nvtx_cu11-11.8.86-py3-none-manylinux1_x86_64.whl (99 kB)\n",
            "\u001b[2K     \u001b[90m━━━━━━━━━━━━━━━━━━━━━━━━━━━━━━━━━━━━━━━━\u001b[0m \u001b[32m99.1/99.1 kB\u001b[0m \u001b[31m8.4 MB/s\u001b[0m eta \u001b[36m0:00:00\u001b[0m\n",
            "\u001b[?25hCollecting triton==3.3.1 (from torch)\n",
            "  Downloading https://download.pytorch.org/whl/triton-3.3.1-cp311-cp311-manylinux_2_27_x86_64.manylinux_2_28_x86_64.whl.metadata (1.5 kB)\n",
            "Requirement already satisfied: setuptools>=40.8.0 in /usr/local/lib/python3.11/dist-packages (from triton==3.3.1->torch) (75.2.0)\n",
            "Requirement already satisfied: numpy in /usr/local/lib/python3.11/dist-packages (from torchvision) (2.2.6)\n",
            "Collecting torch\n",
            "  Downloading https://download.pytorch.org/whl/cu118/torch-2.6.0%2Bcu118-cp311-cp311-linux_x86_64.whl.metadata (27 kB)\n",
            "Requirement already satisfied: pillow!=8.3.*,>=5.3.0 in /usr/local/lib/python3.11/dist-packages (from torchvision) (11.2.1)\n",
            "Requirement already satisfied: triton==3.2.0 in /usr/local/lib/python3.11/dist-packages (from torch) (3.2.0)\n",
            "Collecting sympy==1.13.1 (from torch)\n",
            "  Downloading https://download.pytorch.org/whl/sympy-1.13.1-py3-none-any.whl (6.2 MB)\n",
            "\u001b[2K     \u001b[90m━━━━━━━━━━━━━━━━━━━━━━━━━━━━━━━━━━━━━━━━\u001b[0m \u001b[32m6.2/6.2 MB\u001b[0m \u001b[31m11.4 MB/s\u001b[0m eta \u001b[36m0:00:00\u001b[0m\n",
            "\u001b[?25hRequirement already satisfied: mpmath<1.4,>=1.1.0 in /usr/local/lib/python3.11/dist-packages (from sympy==1.13.1->torch) (1.3.0)\n",
            "Requirement already satisfied: MarkupSafe>=2.0 in /usr/local/lib/python3.11/dist-packages (from jinja2->torch) (3.0.2)\n",
            "Downloading https://download.pytorch.org/whl/cu118/torch-2.6.0%2Bcu118-cp311-cp311-linux_x86_64.whl (848.7 MB)\n",
            "\u001b[2K   \u001b[90m━━━━━━━━━━━━━━━━━━━━━━━━━━━━━━━━━━━━━━━━\u001b[0m \u001b[32m848.7/848.7 MB\u001b[0m \u001b[31m1.5 MB/s\u001b[0m eta \u001b[36m0:00:00\u001b[0m\n",
            "\u001b[?25hInstalling collected packages: sympy, nvidia-nvtx-cu11, nvidia-nccl-cu11, nvidia-cusparse-cu11, nvidia-curand-cu11, nvidia-cufft-cu11, nvidia-cuda-runtime-cu11, nvidia-cuda-nvrtc-cu11, nvidia-cuda-cupti-cu11, nvidia-cublas-cu11, nvidia-cusolver-cu11, nvidia-cudnn-cu11, torch\n",
            "  Attempting uninstall: sympy\n",
            "    Found existing installation: sympy 1.14.0\n",
            "    Uninstalling sympy-1.14.0:\n",
            "      Successfully uninstalled sympy-1.14.0\n",
            "  Attempting uninstall: torch\n",
            "    Found existing installation: torch 2.2.2\n",
            "    Uninstalling torch-2.2.2:\n",
            "      Successfully uninstalled torch-2.2.2\n",
            "\u001b[31mERROR: pip's dependency resolver does not currently take into account all the packages that are installed. This behaviour is the source of the following dependency conflicts.\n",
            "sentence-transformers 4.1.0 requires transformers<5.0.0,>=4.41.0, but you have transformers 4.27.0 which is incompatible.\u001b[0m\u001b[31m\n",
            "\u001b[0mSuccessfully installed nvidia-cublas-cu11-11.11.3.6 nvidia-cuda-cupti-cu11-11.8.87 nvidia-cuda-nvrtc-cu11-11.8.89 nvidia-cuda-runtime-cu11-11.8.89 nvidia-cudnn-cu11-9.1.0.70 nvidia-cufft-cu11-10.9.0.58 nvidia-curand-cu11-10.3.0.86 nvidia-cusolver-cu11-11.4.1.48 nvidia-cusparse-cu11-11.7.5.86 nvidia-nccl-cu11-2.21.5 nvidia-nvtx-cu11-11.8.86 sympy-1.13.1 torch-2.6.0+cu118\n"
          ]
        }
      ]
    },
    {
      "cell_type": "code",
      "source": [
        "!PYTHONPATH=$PYTHONPATH:/content/itau-group2 \\\n",
        "python scripts/validation_grid_search.py --reference_filepath /content/itau-group2/data/processed/fraud_triplets.pkl \\\n",
        "--test_reference_set_filepath /content/itau-group2/data/processed/german_companies_first_500.csv \\\n",
        "--test_filepath /content/itau-group2/data/processed/german_merged_dataset.csv \\\n",
        "--lrs \"[2e-4]\" --batch_size \"[8]\" --margins \"[0.7]\" --internal_layer_sizes \"[256]\" \\\n",
        "--mode \"triplet\" --loss_type \"cosine\""
      ],
      "metadata": {
        "colab": {
          "base_uri": "https://localhost:8080/"
        },
        "id": "CqRs-6rzDNaC",
        "outputId": "3ee27373-d81d-4b46-f298-c2ae5d4adb02"
      },
      "execution_count": null,
      "outputs": [
        {
          "output_type": "stream",
          "name": "stdout",
          "text": [
            "/usr/local/lib/python3.11/dist-packages/huggingface_hub/file_download.py:943: FutureWarning: `resume_download` is deprecated and will be removed in version 1.0.0. Downloads always resume when possible. If you want to force a new download, use `force_download=True`.\n",
            "  warnings.warn(\n",
            "/usr/local/lib/python3.11/dist-packages/huggingface_hub/file_download.py:943: FutureWarning: `resume_download` is deprecated and will be removed in version 1.0.0. Downloads always resume when possible. If you want to force a new download, use `force_download=True`.\n",
            "  warnings.warn(\n",
            "grid search began\n",
            "\n",
            "--- Training config: lr=0.0002, bs=8, margin=0.7, size=256, loss=cosine ---\n",
            "Step 0 complete out of 2250\n",
            "Step 100 complete out of 2250\n",
            "Step 200 complete out of 2250\n",
            "Step 300 complete out of 2250\n",
            "Step 400 complete out of 2250\n",
            "Step 500 complete out of 2250\n",
            "Step 600 complete out of 2250\n",
            "Step 700 complete out of 2250\n",
            "Step 800 complete out of 2250\n",
            "Step 900 complete out of 2250\n",
            "Step 1000 complete out of 2250\n",
            "Step 1100 complete out of 2250\n",
            "Step 1200 complete out of 2250\n",
            "Step 1300 complete out of 2250\n",
            "Step 1400 complete out of 2250\n",
            "Step 1500 complete out of 2250\n",
            "Step 1600 complete out of 2250\n",
            "Step 1700 complete out of 2250\n",
            "Step 1800 complete out of 2250\n",
            "Step 1900 complete out of 2250\n",
            "Step 2000 complete out of 2250\n",
            "Step 2100 complete out of 2250\n",
            "Step 2200 complete out of 2250\n",
            "Epoch Loss: 0.0545\n",
            "Best threshold (Youden): 0.814\n",
            "Epoch 1 - Test Accuracy: 0.9276 | Precision: 0.8533 | Recall: 0.8840\n",
            "Step 0 complete out of 2250\n",
            "Step 100 complete out of 2250\n",
            "Step 200 complete out of 2250\n",
            "Step 300 complete out of 2250\n",
            "Step 400 complete out of 2250\n",
            "Step 500 complete out of 2250\n",
            "Step 600 complete out of 2250\n",
            "Step 700 complete out of 2250\n",
            "Step 800 complete out of 2250\n",
            "Step 900 complete out of 2250\n",
            "Step 1000 complete out of 2250\n",
            "Step 1100 complete out of 2250\n",
            "Step 1200 complete out of 2250\n",
            "Step 1300 complete out of 2250\n",
            "Step 1400 complete out of 2250\n",
            "Step 1500 complete out of 2250\n",
            "Step 1600 complete out of 2250\n",
            "Step 1700 complete out of 2250\n",
            "Step 1800 complete out of 2250\n",
            "Step 1900 complete out of 2250\n",
            "Step 2000 complete out of 2250\n",
            "Step 2100 complete out of 2250\n",
            "Step 2200 complete out of 2250\n",
            "Epoch Loss: 0.0153\n",
            "Best threshold (Youden): 0.823\n",
            "Epoch 2 - Test Accuracy: 0.9271 | Precision: 0.8503 | Recall: 0.8860\n",
            "Step 0 complete out of 2250\n",
            "Step 100 complete out of 2250\n",
            "Step 200 complete out of 2250\n",
            "Step 300 complete out of 2250\n",
            "Step 400 complete out of 2250\n",
            "Step 500 complete out of 2250\n",
            "Step 600 complete out of 2250\n",
            "Step 700 complete out of 2250\n",
            "Step 800 complete out of 2250\n",
            "Step 900 complete out of 2250\n",
            "Step 1000 complete out of 2250\n",
            "Step 1100 complete out of 2250\n",
            "Step 1200 complete out of 2250\n",
            "Step 1300 complete out of 2250\n",
            "Step 1400 complete out of 2250\n",
            "Step 1500 complete out of 2250\n",
            "Step 1600 complete out of 2250\n",
            "Step 1700 complete out of 2250\n",
            "Step 1800 complete out of 2250\n",
            "Step 1900 complete out of 2250\n",
            "Step 2000 complete out of 2250\n",
            "Step 2100 complete out of 2250\n",
            "Step 2200 complete out of 2250\n",
            "Epoch Loss: 0.0087\n",
            "Best threshold (Youden): 0.811\n",
            "Epoch 3 - Test Accuracy: 0.9254 | Precision: 0.8508 | Recall: 0.8780\n",
            "Step 0 complete out of 2250\n",
            "Step 100 complete out of 2250\n",
            "Step 200 complete out of 2250\n",
            "Step 300 complete out of 2250\n",
            "Step 400 complete out of 2250\n",
            "Step 500 complete out of 2250\n",
            "Step 600 complete out of 2250\n",
            "Step 700 complete out of 2250\n",
            "Step 800 complete out of 2250\n",
            "Step 900 complete out of 2250\n",
            "Step 1000 complete out of 2250\n",
            "Step 1100 complete out of 2250\n",
            "Step 1200 complete out of 2250\n",
            "Step 1300 complete out of 2250\n",
            "Step 1400 complete out of 2250\n",
            "Step 1500 complete out of 2250\n",
            "Step 1600 complete out of 2250\n",
            "Step 1700 complete out of 2250\n",
            "Step 1800 complete out of 2250\n",
            "Step 1900 complete out of 2250\n",
            "Step 2000 complete out of 2250\n",
            "Step 2100 complete out of 2250\n",
            "Step 2200 complete out of 2250\n",
            "Epoch Loss: 0.0056\n",
            "Best threshold (Youden): 0.809\n",
            "Epoch 4 - Test Accuracy: 0.9287 | Precision: 0.8525 | Recall: 0.8900\n",
            "Step 0 complete out of 2250\n",
            "Step 100 complete out of 2250\n",
            "Step 200 complete out of 2250\n",
            "Step 300 complete out of 2250\n",
            "Step 400 complete out of 2250\n",
            "Step 500 complete out of 2250\n",
            "Step 600 complete out of 2250\n",
            "Step 700 complete out of 2250\n",
            "Step 800 complete out of 2250\n",
            "Step 900 complete out of 2250\n",
            "Step 1000 complete out of 2250\n",
            "Step 1100 complete out of 2250\n",
            "Step 1200 complete out of 2250\n",
            "Step 1300 complete out of 2250\n",
            "Step 1400 complete out of 2250\n",
            "Step 1500 complete out of 2250\n",
            "Step 1600 complete out of 2250\n",
            "Step 1700 complete out of 2250\n",
            "Step 1800 complete out of 2250\n",
            "Step 1900 complete out of 2250\n",
            "Step 2000 complete out of 2250\n",
            "Step 2100 complete out of 2250\n",
            "Step 2200 complete out of 2250\n",
            "Epoch Loss: 0.0039\n",
            "Best threshold (Youden): 0.823\n",
            "Epoch 5 - Test Accuracy: 0.9222 | Precision: 0.8477 | Recall: 0.8680\n",
            "Step 0 complete out of 2250\n",
            "Step 100 complete out of 2250\n",
            "Step 200 complete out of 2250\n",
            "Step 300 complete out of 2250\n",
            "Step 400 complete out of 2250\n",
            "Step 500 complete out of 2250\n",
            "Step 600 complete out of 2250\n",
            "Step 700 complete out of 2250\n",
            "Step 800 complete out of 2250\n",
            "Step 900 complete out of 2250\n",
            "Step 1000 complete out of 2250\n",
            "Step 1100 complete out of 2250\n",
            "Step 1200 complete out of 2250\n",
            "Step 1300 complete out of 2250\n",
            "Step 1400 complete out of 2250\n",
            "Step 1500 complete out of 2250\n",
            "Step 1600 complete out of 2250\n",
            "Step 1700 complete out of 2250\n",
            "Step 1800 complete out of 2250\n",
            "Step 1900 complete out of 2250\n",
            "Step 2000 complete out of 2250\n",
            "Step 2100 complete out of 2250\n",
            "Step 2200 complete out of 2250\n",
            "Epoch Loss: 0.0031\n",
            "Best threshold (Youden): 0.837\n",
            "Epoch 6 - Test Accuracy: 0.9233 | Precision: 0.8456 | Recall: 0.8760\n",
            "Step 0 complete out of 2250\n",
            "Step 100 complete out of 2250\n",
            "Step 200 complete out of 2250\n",
            "Step 300 complete out of 2250\n",
            "Step 400 complete out of 2250\n",
            "Step 500 complete out of 2250\n",
            "Step 600 complete out of 2250\n",
            "Step 700 complete out of 2250\n",
            "Step 800 complete out of 2250\n",
            "Step 900 complete out of 2250\n",
            "Step 1000 complete out of 2250\n",
            "Step 1100 complete out of 2250\n",
            "Step 1200 complete out of 2250\n",
            "Step 1300 complete out of 2250\n",
            "Step 1400 complete out of 2250\n",
            "Step 1500 complete out of 2250\n",
            "Step 1600 complete out of 2250\n",
            "Step 1700 complete out of 2250\n",
            "Step 1800 complete out of 2250\n",
            "Step 1900 complete out of 2250\n",
            "Step 2000 complete out of 2250\n",
            "Step 2100 complete out of 2250\n",
            "Step 2200 complete out of 2250\n",
            "Epoch Loss: 0.0027\n",
            "Best threshold (Youden): 0.823\n",
            "Epoch 7 - Test Accuracy: 0.9335 | Precision: 0.8748 | Recall: 0.8800\n",
            "Step 0 complete out of 2250\n",
            "Step 100 complete out of 2250\n",
            "Step 200 complete out of 2250\n",
            "Step 300 complete out of 2250\n",
            "Step 400 complete out of 2250\n",
            "Step 500 complete out of 2250\n",
            "Step 600 complete out of 2250\n",
            "Step 700 complete out of 2250\n",
            "Step 800 complete out of 2250\n",
            "Step 900 complete out of 2250\n",
            "Step 1000 complete out of 2250\n",
            "Step 1100 complete out of 2250\n",
            "Step 1200 complete out of 2250\n",
            "Step 1300 complete out of 2250\n",
            "Step 1400 complete out of 2250\n",
            "Step 1500 complete out of 2250\n",
            "Step 1600 complete out of 2250\n",
            "Step 1700 complete out of 2250\n",
            "Step 1800 complete out of 2250\n",
            "Step 1900 complete out of 2250\n",
            "Step 2000 complete out of 2250\n",
            "Step 2100 complete out of 2250\n",
            "Step 2200 complete out of 2250\n",
            "Epoch Loss: 0.0020\n",
            "Best threshold (Youden): 0.869\n",
            "Epoch 8 - Test Accuracy: 0.9417 | Precision: 0.9356 | Recall: 0.8420\n",
            "Step 0 complete out of 2250\n",
            "Step 100 complete out of 2250\n",
            "Step 200 complete out of 2250\n",
            "Step 300 complete out of 2250\n",
            "Step 400 complete out of 2250\n",
            "Step 500 complete out of 2250\n",
            "Step 600 complete out of 2250\n",
            "Step 700 complete out of 2250\n",
            "Step 800 complete out of 2250\n",
            "Step 900 complete out of 2250\n",
            "Step 1000 complete out of 2250\n",
            "Step 1100 complete out of 2250\n",
            "Step 1200 complete out of 2250\n",
            "Step 1300 complete out of 2250\n",
            "Step 1400 complete out of 2250\n",
            "Step 1500 complete out of 2250\n",
            "Step 1600 complete out of 2250\n",
            "Step 1700 complete out of 2250\n",
            "Step 1800 complete out of 2250\n",
            "Step 1900 complete out of 2250\n",
            "Step 2000 complete out of 2250\n",
            "Step 2100 complete out of 2250\n",
            "Step 2200 complete out of 2250\n",
            "Epoch Loss: 0.0019\n",
            "Best threshold (Youden): 0.856\n",
            "Epoch 9 - Test Accuracy: 0.9395 | Precision: 0.9273 | Recall: 0.8420\n",
            "Step 0 complete out of 2250\n",
            "Step 100 complete out of 2250\n",
            "Step 200 complete out of 2250\n",
            "Step 300 complete out of 2250\n",
            "Step 400 complete out of 2250\n",
            "Step 500 complete out of 2250\n",
            "Step 600 complete out of 2250\n",
            "Step 700 complete out of 2250\n",
            "Step 800 complete out of 2250\n",
            "Step 900 complete out of 2250\n",
            "Step 1000 complete out of 2250\n",
            "Step 1100 complete out of 2250\n",
            "Step 1200 complete out of 2250\n",
            "Step 1300 complete out of 2250\n",
            "Step 1400 complete out of 2250\n",
            "Step 1500 complete out of 2250\n",
            "Step 1600 complete out of 2250\n",
            "Step 1700 complete out of 2250\n",
            "Step 1800 complete out of 2250\n",
            "Step 1900 complete out of 2250\n",
            "Step 2000 complete out of 2250\n",
            "Step 2100 complete out of 2250\n",
            "Step 2200 complete out of 2250\n",
            "Epoch Loss: 0.0017\n",
            "Best threshold (Youden): 0.841\n",
            "Epoch 10 - Test Accuracy: 0.9373 | Precision: 0.9103 | Recall: 0.8520\n",
            "Step 0 complete out of 2250\n",
            "Step 100 complete out of 2250\n",
            "Step 200 complete out of 2250\n",
            "Step 300 complete out of 2250\n",
            "Step 400 complete out of 2250\n",
            "Step 500 complete out of 2250\n",
            "Step 600 complete out of 2250\n",
            "Step 700 complete out of 2250\n",
            "Step 800 complete out of 2250\n",
            "Step 900 complete out of 2250\n",
            "Step 1000 complete out of 2250\n",
            "Step 1100 complete out of 2250\n",
            "Step 1200 complete out of 2250\n",
            "Step 1300 complete out of 2250\n",
            "Step 1400 complete out of 2250\n",
            "Step 1500 complete out of 2250\n",
            "Step 1600 complete out of 2250\n",
            "Step 1700 complete out of 2250\n",
            "Step 1800 complete out of 2250\n",
            "Step 1900 complete out of 2250\n",
            "Step 2000 complete out of 2250\n",
            "Step 2100 complete out of 2250\n",
            "Step 2200 complete out of 2250\n",
            "Epoch Loss: 0.0014\n",
            "Best threshold (Youden): 0.840\n",
            "Epoch 11 - Test Accuracy: 0.9281 | Precision: 0.8737 | Recall: 0.8580\n",
            "Step 0 complete out of 2250\n",
            "Step 100 complete out of 2250\n",
            "Step 200 complete out of 2250\n",
            "Step 300 complete out of 2250\n",
            "Step 400 complete out of 2250\n",
            "Step 500 complete out of 2250\n",
            "Step 600 complete out of 2250\n",
            "Step 700 complete out of 2250\n",
            "Step 800 complete out of 2250\n",
            "Step 900 complete out of 2250\n",
            "Step 1000 complete out of 2250\n",
            "Step 1100 complete out of 2250\n",
            "Step 1200 complete out of 2250\n",
            "Step 1300 complete out of 2250\n",
            "Step 1400 complete out of 2250\n",
            "Step 1500 complete out of 2250\n",
            "Step 1600 complete out of 2250\n",
            "Step 1700 complete out of 2250\n",
            "Step 1800 complete out of 2250\n",
            "Step 1900 complete out of 2250\n",
            "Step 2000 complete out of 2250\n",
            "Step 2100 complete out of 2250\n",
            "Step 2200 complete out of 2250\n",
            "Epoch Loss: 0.0013\n",
            "Best threshold (Youden): 0.847\n",
            "Epoch 12 - Test Accuracy: 0.9319 | Precision: 0.8929 | Recall: 0.8500\n",
            "Step 0 complete out of 2250\n",
            "Step 100 complete out of 2250\n",
            "Step 200 complete out of 2250\n",
            "Step 300 complete out of 2250\n",
            "Step 400 complete out of 2250\n",
            "Step 500 complete out of 2250\n",
            "Step 600 complete out of 2250\n",
            "Step 700 complete out of 2250\n",
            "Step 800 complete out of 2250\n",
            "Step 900 complete out of 2250\n",
            "Step 1000 complete out of 2250\n",
            "Step 1100 complete out of 2250\n",
            "Step 1200 complete out of 2250\n",
            "Step 1300 complete out of 2250\n",
            "Step 1400 complete out of 2250\n",
            "Step 1500 complete out of 2250\n",
            "Step 1600 complete out of 2250\n",
            "Step 1700 complete out of 2250\n",
            "Step 1800 complete out of 2250\n",
            "Step 1900 complete out of 2250\n",
            "Step 2000 complete out of 2250\n",
            "Step 2100 complete out of 2250\n",
            "Step 2200 complete out of 2250\n",
            "Epoch Loss: 0.0014\n",
            "Best threshold (Youden): 0.842\n",
            "Epoch 13 - Test Accuracy: 0.9346 | Precision: 0.8923 | Recall: 0.8620\n",
            "Step 0 complete out of 2250\n",
            "Step 100 complete out of 2250\n",
            "Step 200 complete out of 2250\n",
            "Step 300 complete out of 2250\n",
            "Step 400 complete out of 2250\n",
            "Step 500 complete out of 2250\n",
            "Step 600 complete out of 2250\n",
            "Step 700 complete out of 2250\n",
            "Step 800 complete out of 2250\n",
            "Step 900 complete out of 2250\n",
            "Step 1000 complete out of 2250\n",
            "Step 1100 complete out of 2250\n",
            "Step 1200 complete out of 2250\n",
            "Step 1300 complete out of 2250\n",
            "Step 1400 complete out of 2250\n",
            "Step 1500 complete out of 2250\n",
            "Step 1600 complete out of 2250\n",
            "Step 1700 complete out of 2250\n",
            "Step 1800 complete out of 2250\n",
            "Step 1900 complete out of 2250\n",
            "Step 2000 complete out of 2250\n",
            "Step 2100 complete out of 2250\n",
            "Step 2200 complete out of 2250\n",
            "Epoch Loss: 0.0011\n",
            "Best threshold (Youden): 0.810\n",
            "Epoch 14 - Test Accuracy: 0.9254 | Precision: 0.8390 | Recall: 0.8960\n",
            "Step 0 complete out of 2250\n",
            "Step 100 complete out of 2250\n",
            "Step 200 complete out of 2250\n",
            "Step 300 complete out of 2250\n",
            "Step 400 complete out of 2250\n",
            "Step 500 complete out of 2250\n",
            "Step 600 complete out of 2250\n",
            "Step 700 complete out of 2250\n",
            "Step 800 complete out of 2250\n",
            "Step 900 complete out of 2250\n",
            "Step 1000 complete out of 2250\n",
            "Step 1100 complete out of 2250\n",
            "Step 1200 complete out of 2250\n",
            "Step 1300 complete out of 2250\n",
            "Step 1400 complete out of 2250\n",
            "Step 1500 complete out of 2250\n",
            "Step 1600 complete out of 2250\n",
            "Step 1700 complete out of 2250\n",
            "Step 1800 complete out of 2250\n",
            "Step 1900 complete out of 2250\n",
            "Step 2000 complete out of 2250\n",
            "Step 2100 complete out of 2250\n",
            "Step 2200 complete out of 2250\n",
            "Epoch Loss: 0.0012\n",
            "Best threshold (Youden): 0.857\n",
            "Epoch 15 - Test Accuracy: 0.9314 | Precision: 0.8894 | Recall: 0.8520\n",
            "Step 0 complete out of 2250\n",
            "Step 100 complete out of 2250\n",
            "Step 200 complete out of 2250\n",
            "Step 300 complete out of 2250\n",
            "Step 400 complete out of 2250\n",
            "Step 500 complete out of 2250\n",
            "Step 600 complete out of 2250\n",
            "Step 700 complete out of 2250\n",
            "Step 800 complete out of 2250\n",
            "Step 900 complete out of 2250\n",
            "Step 1000 complete out of 2250\n",
            "Step 1100 complete out of 2250\n",
            "Step 1200 complete out of 2250\n",
            "Step 1300 complete out of 2250\n",
            "Step 1400 complete out of 2250\n",
            "Step 1500 complete out of 2250\n",
            "Step 1600 complete out of 2250\n",
            "Step 1700 complete out of 2250\n",
            "Step 1800 complete out of 2250\n",
            "Step 1900 complete out of 2250\n",
            "Step 2000 complete out of 2250\n",
            "Step 2100 complete out of 2250\n",
            "Step 2200 complete out of 2250\n",
            "Epoch Loss: 0.0010\n",
            "Best threshold (Youden): 0.841\n",
            "Epoch 16 - Test Accuracy: 0.9384 | Precision: 0.9089 | Recall: 0.8580\n",
            "Step 0 complete out of 2250\n",
            "Step 100 complete out of 2250\n",
            "Step 200 complete out of 2250\n",
            "Step 300 complete out of 2250\n",
            "Step 400 complete out of 2250\n",
            "Step 500 complete out of 2250\n",
            "Step 600 complete out of 2250\n",
            "Step 700 complete out of 2250\n",
            "Step 800 complete out of 2250\n",
            "Step 900 complete out of 2250\n",
            "Step 1000 complete out of 2250\n",
            "Step 1100 complete out of 2250\n",
            "Step 1200 complete out of 2250\n"
          ]
        }
      ]
    }
  ]
}