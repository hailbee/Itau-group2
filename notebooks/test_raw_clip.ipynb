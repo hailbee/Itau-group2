{
 "cells": [
  {
   "cell_type": "code",
   "execution_count": null,
   "id": "55fadf4d",
   "metadata": {
    "vscode": {
     "languageId": "plaintext"
    }
   },
   "outputs": [],
   "source": [
    "!git clone https://github.com/sashajh2/itau-group2/"
   ]
  },
  {
   "cell_type": "code",
   "execution_count": null,
   "id": "d29774a5",
   "metadata": {
    "vscode": {
     "languageId": "plaintext"
    }
   },
   "outputs": [],
   "source": [
    "%cd itau-group2"
   ]
  },
  {
   "cell_type": "code",
   "execution_count": null,
   "id": "74f06043",
   "metadata": {
    "vscode": {
     "languageId": "plaintext"
    }
   },
   "outputs": [],
   "source": [
    "!git pull origin"
   ]
  },
  {
   "cell_type": "code",
   "execution_count": null,
   "id": "dd182266",
   "metadata": {
    "vscode": {
     "languageId": "plaintext"
    }
   },
   "outputs": [],
   "source": [
    "!git checkout sean-clip-test"
   ]
  },
  {
   "cell_type": "code",
   "execution_count": null,
   "id": "8ed84228",
   "metadata": {
    "vscode": {
     "languageId": "plaintext"
    }
   },
   "outputs": [],
   "source": [
    "#ensure this is /content/itau-group2\n",
    "!pwd"
   ]
  },
  {
   "cell_type": "code",
   "execution_count": null,
   "id": "9aaa9b38",
   "metadata": {
    "vscode": {
     "languageId": "plaintext"
    }
   },
   "outputs": [],
   "source": [
    "%pip install -r requirements.txt --no-deps"
   ]
  },
  {
   "cell_type": "code",
   "execution_count": null,
   "id": "17ac95f4",
   "metadata": {
    "vscode": {
     "languageId": "plaintext"
    }
   },
   "outputs": [],
   "source": [
    "!PYTHONPATH=$PYTHONPATH:/content/itau-group2 \\\n",
    "python scripts/test_and_eval_clip.py \n",
    "--reference_filepath /content/itau-group2/data/processed/german_companies_first_500.csv \\\n",
    "--test_filepath /content/itau-group2/data/processed/german_merged_dataset.csv \\"
   ]
  }
 ],
 "metadata": {
  "language_info": {
   "name": "python"
  }
 },
 "nbformat": 4,
 "nbformat_minor": 5
}
